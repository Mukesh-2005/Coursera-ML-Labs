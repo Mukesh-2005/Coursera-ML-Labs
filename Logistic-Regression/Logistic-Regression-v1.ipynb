{
 "cells": [
  {
   "cell_type": "markdown",
   "id": "33a6eee9-4a74-4710-9da8-f61cc396c587",
   "metadata": {},
   "source": [
    "<p style=\"text-align:center\">\n",
    "    <a href=\"https://skills.network\" target=\"_blank\">\n",
    "    <img src=\"https://cf-courses-data.s3.us.cloud-object-storage.appdomain.cloud/assets/logos/SN_web_lightmode.png\" width=\"200\" alt=\"Skills Network Logo\">\n",
    "    </a>\n",
    "</p>\n",
    "\n",
    "\n",
    "# Logistic Regression with Python\n",
    "\n",
    "\n",
    "Estimated time needed: **30** minutes\n",
    "    \n",
    "\n",
    "## Objectives\n",
    "\n",
    "After completing this lab you will be able to:\n",
    "\n",
    "* Use Logistic Regression for classification\n",
    "* Preprocess data for modeling\n",
    "* Implement Logistic regression on real world data\n"
   ]
  },
  {
   "cell_type": "markdown",
   "metadata": {},
   "source": [
    "## Classification with Logistic Regression\n",
    "\n",
    "### Scenario\n",
    "Assume that you are working for a telecommunications company which is concerned about the number of customers leaving their land-line business for cable competitors. They need to understand who is more likely to leave the company.\n"
   ]
  },
  {
   "cell_type": "markdown",
   "metadata": {},
   "source": [
    "###  Load the Telco Churn data \n",
    "Telco Churn is a hypothetical data file that concerns a telecommunications company's efforts to reduce turnover in its customer base. Each case corresponds to a separate customer and it records various demographic and service usage information. Before you can work with the data, you must use the URL to get the ChurnData.csv.\n"
   ]
  },
  {
   "cell_type": "markdown",
   "metadata": {},
   "source": [
    "### About the dataset\n",
    "We will use a telecommunications dataset for predicting customer churn. This is a historical customer dataset where each row represents one customer. The data is relatively easy to understand, and you may uncover insights you can use immediately. Typically it is less expensive to keep customers than acquire new ones, so the focus of this analysis is to predict the customers who will stay with the company. \n",
    "<br><br>\n",
    "This data set provides you information about customer preferences, services opted, personal details, etc. which helps you predict customer churn.\n"
   ]
  },
  {
   "cell_type": "markdown",
   "id": "62faff05-e4a9-4615-bf50-484853e8ee96",
   "metadata": {},
   "source": [
    "## Install and import the required libraries\n",
    "Make sure the required libraries are available by executing the cell below.\n"
   ]
  },
  {
   "cell_type": "code",
   "execution_count": 46,
   "id": "647fb479-e4c7-497b-9716-6a482636136b",
   "metadata": {},
   "outputs": [],
   "source": [
    "#!pip install numpy==2.2.0\n",
    "#!pip install pandas==2.2.3\n",
    "#!pip install scikit-learn==1.6.0\n",
    "#!pip install matplotlib==3.9.3"
   ]
  },
  {
   "cell_type": "markdown",
   "id": "a65dc016-b2da-4dfb-b329-22f0007e984e",
   "metadata": {},
   "source": [
    "Let's first import required libraries:\n"
   ]
  },
  {
   "cell_type": "code",
   "execution_count": 2,
   "id": "ca30ec97-e98e-4ab6-a7ef-c5e009347bfb",
   "metadata": {},
   "outputs": [],
   "source": [
    "import pandas as pd\n",
    "import numpy as np\n",
    "\n",
    "from sklearn.model_selection import train_test_split\n",
    "from sklearn.linear_model import LogisticRegression\n",
    "from sklearn.preprocessing import StandardScaler\n",
    "\n",
    "from sklearn.metrics import log_loss\n",
    "import matplotlib.pyplot as plt\n",
    "\n",
    "%matplotlib inline \n",
    "\n",
    "import warnings\n",
    "warnings.filterwarnings('ignore')"
   ]
  },
  {
   "cell_type": "markdown",
   "id": "1577f7a1-d75b-4f6c-8cfb-87da65872167",
   "metadata": {},
   "source": [
    "### Load Data from URL\n"
   ]
  },
  {
   "cell_type": "code",
   "execution_count": 21,
   "id": "8b863321-115a-44ff-9c06-79c12e8f9df0",
   "metadata": {},
   "outputs": [
    {
     "data": {
      "text/html": [
       "<div>\n",
       "<style scoped>\n",
       "    .dataframe tbody tr th:only-of-type {\n",
       "        vertical-align: middle;\n",
       "    }\n",
       "\n",
       "    .dataframe tbody tr th {\n",
       "        vertical-align: top;\n",
       "    }\n",
       "\n",
       "    .dataframe thead th {\n",
       "        text-align: right;\n",
       "    }\n",
       "</style>\n",
       "<table border=\"1\" class=\"dataframe\">\n",
       "  <thead>\n",
       "    <tr style=\"text-align: right;\">\n",
       "      <th></th>\n",
       "      <th>tenure</th>\n",
       "      <th>age</th>\n",
       "      <th>address</th>\n",
       "      <th>income</th>\n",
       "      <th>ed</th>\n",
       "      <th>employ</th>\n",
       "      <th>equip</th>\n",
       "      <th>callcard</th>\n",
       "      <th>wireless</th>\n",
       "      <th>longmon</th>\n",
       "      <th>...</th>\n",
       "      <th>pager</th>\n",
       "      <th>internet</th>\n",
       "      <th>callwait</th>\n",
       "      <th>confer</th>\n",
       "      <th>ebill</th>\n",
       "      <th>loglong</th>\n",
       "      <th>logtoll</th>\n",
       "      <th>lninc</th>\n",
       "      <th>custcat</th>\n",
       "      <th>churn</th>\n",
       "    </tr>\n",
       "  </thead>\n",
       "  <tbody>\n",
       "    <tr>\n",
       "      <th>0</th>\n",
       "      <td>11.0</td>\n",
       "      <td>33.0</td>\n",
       "      <td>7.0</td>\n",
       "      <td>136.0</td>\n",
       "      <td>5.0</td>\n",
       "      <td>5.0</td>\n",
       "      <td>0.0</td>\n",
       "      <td>1.0</td>\n",
       "      <td>1.0</td>\n",
       "      <td>4.40</td>\n",
       "      <td>...</td>\n",
       "      <td>1.0</td>\n",
       "      <td>0.0</td>\n",
       "      <td>1.0</td>\n",
       "      <td>1.0</td>\n",
       "      <td>0.0</td>\n",
       "      <td>1.482</td>\n",
       "      <td>3.033</td>\n",
       "      <td>4.913</td>\n",
       "      <td>4.0</td>\n",
       "      <td>1.0</td>\n",
       "    </tr>\n",
       "    <tr>\n",
       "      <th>1</th>\n",
       "      <td>33.0</td>\n",
       "      <td>33.0</td>\n",
       "      <td>12.0</td>\n",
       "      <td>33.0</td>\n",
       "      <td>2.0</td>\n",
       "      <td>0.0</td>\n",
       "      <td>0.0</td>\n",
       "      <td>0.0</td>\n",
       "      <td>0.0</td>\n",
       "      <td>9.45</td>\n",
       "      <td>...</td>\n",
       "      <td>0.0</td>\n",
       "      <td>0.0</td>\n",
       "      <td>0.0</td>\n",
       "      <td>0.0</td>\n",
       "      <td>0.0</td>\n",
       "      <td>2.246</td>\n",
       "      <td>3.240</td>\n",
       "      <td>3.497</td>\n",
       "      <td>1.0</td>\n",
       "      <td>1.0</td>\n",
       "    </tr>\n",
       "    <tr>\n",
       "      <th>2</th>\n",
       "      <td>23.0</td>\n",
       "      <td>30.0</td>\n",
       "      <td>9.0</td>\n",
       "      <td>30.0</td>\n",
       "      <td>1.0</td>\n",
       "      <td>2.0</td>\n",
       "      <td>0.0</td>\n",
       "      <td>0.0</td>\n",
       "      <td>0.0</td>\n",
       "      <td>6.30</td>\n",
       "      <td>...</td>\n",
       "      <td>0.0</td>\n",
       "      <td>0.0</td>\n",
       "      <td>0.0</td>\n",
       "      <td>1.0</td>\n",
       "      <td>0.0</td>\n",
       "      <td>1.841</td>\n",
       "      <td>3.240</td>\n",
       "      <td>3.401</td>\n",
       "      <td>3.0</td>\n",
       "      <td>0.0</td>\n",
       "    </tr>\n",
       "    <tr>\n",
       "      <th>3</th>\n",
       "      <td>38.0</td>\n",
       "      <td>35.0</td>\n",
       "      <td>5.0</td>\n",
       "      <td>76.0</td>\n",
       "      <td>2.0</td>\n",
       "      <td>10.0</td>\n",
       "      <td>1.0</td>\n",
       "      <td>1.0</td>\n",
       "      <td>1.0</td>\n",
       "      <td>6.05</td>\n",
       "      <td>...</td>\n",
       "      <td>1.0</td>\n",
       "      <td>1.0</td>\n",
       "      <td>1.0</td>\n",
       "      <td>1.0</td>\n",
       "      <td>1.0</td>\n",
       "      <td>1.800</td>\n",
       "      <td>3.807</td>\n",
       "      <td>4.331</td>\n",
       "      <td>4.0</td>\n",
       "      <td>0.0</td>\n",
       "    </tr>\n",
       "    <tr>\n",
       "      <th>4</th>\n",
       "      <td>7.0</td>\n",
       "      <td>35.0</td>\n",
       "      <td>14.0</td>\n",
       "      <td>80.0</td>\n",
       "      <td>2.0</td>\n",
       "      <td>15.0</td>\n",
       "      <td>0.0</td>\n",
       "      <td>1.0</td>\n",
       "      <td>0.0</td>\n",
       "      <td>7.10</td>\n",
       "      <td>...</td>\n",
       "      <td>0.0</td>\n",
       "      <td>0.0</td>\n",
       "      <td>1.0</td>\n",
       "      <td>1.0</td>\n",
       "      <td>0.0</td>\n",
       "      <td>1.960</td>\n",
       "      <td>3.091</td>\n",
       "      <td>4.382</td>\n",
       "      <td>3.0</td>\n",
       "      <td>0.0</td>\n",
       "    </tr>\n",
       "    <tr>\n",
       "      <th>...</th>\n",
       "      <td>...</td>\n",
       "      <td>...</td>\n",
       "      <td>...</td>\n",
       "      <td>...</td>\n",
       "      <td>...</td>\n",
       "      <td>...</td>\n",
       "      <td>...</td>\n",
       "      <td>...</td>\n",
       "      <td>...</td>\n",
       "      <td>...</td>\n",
       "      <td>...</td>\n",
       "      <td>...</td>\n",
       "      <td>...</td>\n",
       "      <td>...</td>\n",
       "      <td>...</td>\n",
       "      <td>...</td>\n",
       "      <td>...</td>\n",
       "      <td>...</td>\n",
       "      <td>...</td>\n",
       "      <td>...</td>\n",
       "      <td>...</td>\n",
       "    </tr>\n",
       "    <tr>\n",
       "      <th>195</th>\n",
       "      <td>55.0</td>\n",
       "      <td>44.0</td>\n",
       "      <td>24.0</td>\n",
       "      <td>83.0</td>\n",
       "      <td>1.0</td>\n",
       "      <td>23.0</td>\n",
       "      <td>0.0</td>\n",
       "      <td>1.0</td>\n",
       "      <td>0.0</td>\n",
       "      <td>17.35</td>\n",
       "      <td>...</td>\n",
       "      <td>0.0</td>\n",
       "      <td>0.0</td>\n",
       "      <td>0.0</td>\n",
       "      <td>1.0</td>\n",
       "      <td>0.0</td>\n",
       "      <td>2.854</td>\n",
       "      <td>3.199</td>\n",
       "      <td>4.419</td>\n",
       "      <td>3.0</td>\n",
       "      <td>0.0</td>\n",
       "    </tr>\n",
       "    <tr>\n",
       "      <th>196</th>\n",
       "      <td>34.0</td>\n",
       "      <td>23.0</td>\n",
       "      <td>3.0</td>\n",
       "      <td>24.0</td>\n",
       "      <td>1.0</td>\n",
       "      <td>7.0</td>\n",
       "      <td>0.0</td>\n",
       "      <td>1.0</td>\n",
       "      <td>0.0</td>\n",
       "      <td>6.00</td>\n",
       "      <td>...</td>\n",
       "      <td>0.0</td>\n",
       "      <td>0.0</td>\n",
       "      <td>1.0</td>\n",
       "      <td>1.0</td>\n",
       "      <td>0.0</td>\n",
       "      <td>1.792</td>\n",
       "      <td>3.332</td>\n",
       "      <td>3.178</td>\n",
       "      <td>3.0</td>\n",
       "      <td>0.0</td>\n",
       "    </tr>\n",
       "    <tr>\n",
       "      <th>197</th>\n",
       "      <td>6.0</td>\n",
       "      <td>32.0</td>\n",
       "      <td>10.0</td>\n",
       "      <td>47.0</td>\n",
       "      <td>1.0</td>\n",
       "      <td>10.0</td>\n",
       "      <td>0.0</td>\n",
       "      <td>1.0</td>\n",
       "      <td>0.0</td>\n",
       "      <td>3.85</td>\n",
       "      <td>...</td>\n",
       "      <td>0.0</td>\n",
       "      <td>0.0</td>\n",
       "      <td>1.0</td>\n",
       "      <td>1.0</td>\n",
       "      <td>0.0</td>\n",
       "      <td>1.348</td>\n",
       "      <td>3.168</td>\n",
       "      <td>3.850</td>\n",
       "      <td>3.0</td>\n",
       "      <td>0.0</td>\n",
       "    </tr>\n",
       "    <tr>\n",
       "      <th>198</th>\n",
       "      <td>24.0</td>\n",
       "      <td>30.0</td>\n",
       "      <td>0.0</td>\n",
       "      <td>25.0</td>\n",
       "      <td>4.0</td>\n",
       "      <td>5.0</td>\n",
       "      <td>0.0</td>\n",
       "      <td>1.0</td>\n",
       "      <td>1.0</td>\n",
       "      <td>8.70</td>\n",
       "      <td>...</td>\n",
       "      <td>1.0</td>\n",
       "      <td>1.0</td>\n",
       "      <td>1.0</td>\n",
       "      <td>1.0</td>\n",
       "      <td>1.0</td>\n",
       "      <td>2.163</td>\n",
       "      <td>3.866</td>\n",
       "      <td>3.219</td>\n",
       "      <td>4.0</td>\n",
       "      <td>1.0</td>\n",
       "    </tr>\n",
       "    <tr>\n",
       "      <th>199</th>\n",
       "      <td>61.0</td>\n",
       "      <td>50.0</td>\n",
       "      <td>16.0</td>\n",
       "      <td>190.0</td>\n",
       "      <td>2.0</td>\n",
       "      <td>22.0</td>\n",
       "      <td>1.0</td>\n",
       "      <td>1.0</td>\n",
       "      <td>1.0</td>\n",
       "      <td>16.85</td>\n",
       "      <td>...</td>\n",
       "      <td>0.0</td>\n",
       "      <td>1.0</td>\n",
       "      <td>0.0</td>\n",
       "      <td>0.0</td>\n",
       "      <td>1.0</td>\n",
       "      <td>2.824</td>\n",
       "      <td>3.240</td>\n",
       "      <td>5.247</td>\n",
       "      <td>2.0</td>\n",
       "      <td>0.0</td>\n",
       "    </tr>\n",
       "  </tbody>\n",
       "</table>\n",
       "<p>200 rows × 28 columns</p>\n",
       "</div>"
      ],
      "text/plain": [
       "     tenure   age  address  income   ed  employ  equip  callcard  wireless  \\\n",
       "0      11.0  33.0      7.0   136.0  5.0     5.0    0.0       1.0       1.0   \n",
       "1      33.0  33.0     12.0    33.0  2.0     0.0    0.0       0.0       0.0   \n",
       "2      23.0  30.0      9.0    30.0  1.0     2.0    0.0       0.0       0.0   \n",
       "3      38.0  35.0      5.0    76.0  2.0    10.0    1.0       1.0       1.0   \n",
       "4       7.0  35.0     14.0    80.0  2.0    15.0    0.0       1.0       0.0   \n",
       "..      ...   ...      ...     ...  ...     ...    ...       ...       ...   \n",
       "195    55.0  44.0     24.0    83.0  1.0    23.0    0.0       1.0       0.0   \n",
       "196    34.0  23.0      3.0    24.0  1.0     7.0    0.0       1.0       0.0   \n",
       "197     6.0  32.0     10.0    47.0  1.0    10.0    0.0       1.0       0.0   \n",
       "198    24.0  30.0      0.0    25.0  4.0     5.0    0.0       1.0       1.0   \n",
       "199    61.0  50.0     16.0   190.0  2.0    22.0    1.0       1.0       1.0   \n",
       "\n",
       "     longmon  ...  pager  internet  callwait  confer  ebill  loglong  logtoll  \\\n",
       "0       4.40  ...    1.0       0.0       1.0     1.0    0.0    1.482    3.033   \n",
       "1       9.45  ...    0.0       0.0       0.0     0.0    0.0    2.246    3.240   \n",
       "2       6.30  ...    0.0       0.0       0.0     1.0    0.0    1.841    3.240   \n",
       "3       6.05  ...    1.0       1.0       1.0     1.0    1.0    1.800    3.807   \n",
       "4       7.10  ...    0.0       0.0       1.0     1.0    0.0    1.960    3.091   \n",
       "..       ...  ...    ...       ...       ...     ...    ...      ...      ...   \n",
       "195    17.35  ...    0.0       0.0       0.0     1.0    0.0    2.854    3.199   \n",
       "196     6.00  ...    0.0       0.0       1.0     1.0    0.0    1.792    3.332   \n",
       "197     3.85  ...    0.0       0.0       1.0     1.0    0.0    1.348    3.168   \n",
       "198     8.70  ...    1.0       1.0       1.0     1.0    1.0    2.163    3.866   \n",
       "199    16.85  ...    0.0       1.0       0.0     0.0    1.0    2.824    3.240   \n",
       "\n",
       "     lninc  custcat  churn  \n",
       "0    4.913      4.0    1.0  \n",
       "1    3.497      1.0    1.0  \n",
       "2    3.401      3.0    0.0  \n",
       "3    4.331      4.0    0.0  \n",
       "4    4.382      3.0    0.0  \n",
       "..     ...      ...    ...  \n",
       "195  4.419      3.0    0.0  \n",
       "196  3.178      3.0    0.0  \n",
       "197  3.850      3.0    0.0  \n",
       "198  3.219      4.0    1.0  \n",
       "199  5.247      2.0    0.0  \n",
       "\n",
       "[200 rows x 28 columns]"
      ]
     },
     "execution_count": 21,
     "metadata": {},
     "output_type": "execute_result"
    }
   ],
   "source": [
    "# churn_df = pd.read_csv(\"ChurnData.csv\")\n",
    "url = \"https://cf-courses-data.s3.us.cloud-object-storage.appdomain.cloud/IBMDeveloperSkillsNetwork-ML0101EN-SkillsNetwork/labs/Module%203/data/ChurnData.csv\"\n",
    "churn_df = pd.read_csv(url)\n",
    "\n",
    "churn_df"
   ]
  },
  {
   "cell_type": "markdown",
   "id": "a2f9a9bc-0a4d-4cd5-aedf-ba870412fbbd",
   "metadata": {},
   "source": [
    "Let's select some features for the modeling. Also, we change the target data type to be an integer, as it is a requirement by the scikit-learn algorithm:\n"
   ]
  },
  {
   "cell_type": "markdown",
   "id": "21fc4b7a-5507-47f8-b899-4ca690a39c13",
   "metadata": {},
   "source": [
    "## Data Preprocessing\n"
   ]
  },
  {
   "cell_type": "markdown",
   "id": "17547154-568d-4028-94dc-ee317b28d237",
   "metadata": {},
   "source": [
    "For this lab, we can use a subset of the fields available to develop out model. Let us assume that the fields we use are 'tenure', 'age', 'address', 'income', 'ed', 'employ', 'equip' and of course 'churn'.\n"
   ]
  },
  {
   "cell_type": "code",
   "execution_count": 22,
   "metadata": {},
   "outputs": [
    {
     "data": {
      "text/plain": [
       "Index(['tenure', 'age', 'address', 'income', 'ed', 'employ', 'equip',\n",
       "       'callcard', 'wireless', 'longmon', 'tollmon', 'equipmon', 'cardmon',\n",
       "       'wiremon', 'longten', 'tollten', 'cardten', 'voice', 'pager',\n",
       "       'internet', 'callwait', 'confer', 'ebill', 'loglong', 'logtoll',\n",
       "       'lninc', 'custcat', 'churn'],\n",
       "      dtype='object')"
      ]
     },
     "execution_count": 22,
     "metadata": {},
     "output_type": "execute_result"
    }
   ],
   "source": [
    "churn_df.columns"
   ]
  },
  {
   "cell_type": "code",
   "execution_count": 23,
   "id": "450b6b82-bae1-425f-9b5c-7f71c643fa83",
   "metadata": {},
   "outputs": [
    {
     "data": {
      "text/html": [
       "<div>\n",
       "<style scoped>\n",
       "    .dataframe tbody tr th:only-of-type {\n",
       "        vertical-align: middle;\n",
       "    }\n",
       "\n",
       "    .dataframe tbody tr th {\n",
       "        vertical-align: top;\n",
       "    }\n",
       "\n",
       "    .dataframe thead th {\n",
       "        text-align: right;\n",
       "    }\n",
       "</style>\n",
       "<table border=\"1\" class=\"dataframe\">\n",
       "  <thead>\n",
       "    <tr style=\"text-align: right;\">\n",
       "      <th></th>\n",
       "      <th>tenure</th>\n",
       "      <th>age</th>\n",
       "      <th>address</th>\n",
       "      <th>ed</th>\n",
       "      <th>equip</th>\n",
       "      <th>churn</th>\n",
       "      <th>callcard</th>\n",
       "      <th>wireless</th>\n",
       "    </tr>\n",
       "  </thead>\n",
       "  <tbody>\n",
       "    <tr>\n",
       "      <th>0</th>\n",
       "      <td>11.0</td>\n",
       "      <td>33.0</td>\n",
       "      <td>7.0</td>\n",
       "      <td>5.0</td>\n",
       "      <td>0.0</td>\n",
       "      <td>1</td>\n",
       "      <td>1.0</td>\n",
       "      <td>1.0</td>\n",
       "    </tr>\n",
       "    <tr>\n",
       "      <th>1</th>\n",
       "      <td>33.0</td>\n",
       "      <td>33.0</td>\n",
       "      <td>12.0</td>\n",
       "      <td>2.0</td>\n",
       "      <td>0.0</td>\n",
       "      <td>1</td>\n",
       "      <td>0.0</td>\n",
       "      <td>0.0</td>\n",
       "    </tr>\n",
       "    <tr>\n",
       "      <th>2</th>\n",
       "      <td>23.0</td>\n",
       "      <td>30.0</td>\n",
       "      <td>9.0</td>\n",
       "      <td>1.0</td>\n",
       "      <td>0.0</td>\n",
       "      <td>0</td>\n",
       "      <td>0.0</td>\n",
       "      <td>0.0</td>\n",
       "    </tr>\n",
       "    <tr>\n",
       "      <th>3</th>\n",
       "      <td>38.0</td>\n",
       "      <td>35.0</td>\n",
       "      <td>5.0</td>\n",
       "      <td>2.0</td>\n",
       "      <td>1.0</td>\n",
       "      <td>0</td>\n",
       "      <td>1.0</td>\n",
       "      <td>1.0</td>\n",
       "    </tr>\n",
       "    <tr>\n",
       "      <th>4</th>\n",
       "      <td>7.0</td>\n",
       "      <td>35.0</td>\n",
       "      <td>14.0</td>\n",
       "      <td>2.0</td>\n",
       "      <td>0.0</td>\n",
       "      <td>0</td>\n",
       "      <td>1.0</td>\n",
       "      <td>0.0</td>\n",
       "    </tr>\n",
       "    <tr>\n",
       "      <th>...</th>\n",
       "      <td>...</td>\n",
       "      <td>...</td>\n",
       "      <td>...</td>\n",
       "      <td>...</td>\n",
       "      <td>...</td>\n",
       "      <td>...</td>\n",
       "      <td>...</td>\n",
       "      <td>...</td>\n",
       "    </tr>\n",
       "    <tr>\n",
       "      <th>195</th>\n",
       "      <td>55.0</td>\n",
       "      <td>44.0</td>\n",
       "      <td>24.0</td>\n",
       "      <td>1.0</td>\n",
       "      <td>0.0</td>\n",
       "      <td>0</td>\n",
       "      <td>1.0</td>\n",
       "      <td>0.0</td>\n",
       "    </tr>\n",
       "    <tr>\n",
       "      <th>196</th>\n",
       "      <td>34.0</td>\n",
       "      <td>23.0</td>\n",
       "      <td>3.0</td>\n",
       "      <td>1.0</td>\n",
       "      <td>0.0</td>\n",
       "      <td>0</td>\n",
       "      <td>1.0</td>\n",
       "      <td>0.0</td>\n",
       "    </tr>\n",
       "    <tr>\n",
       "      <th>197</th>\n",
       "      <td>6.0</td>\n",
       "      <td>32.0</td>\n",
       "      <td>10.0</td>\n",
       "      <td>1.0</td>\n",
       "      <td>0.0</td>\n",
       "      <td>0</td>\n",
       "      <td>1.0</td>\n",
       "      <td>0.0</td>\n",
       "    </tr>\n",
       "    <tr>\n",
       "      <th>198</th>\n",
       "      <td>24.0</td>\n",
       "      <td>30.0</td>\n",
       "      <td>0.0</td>\n",
       "      <td>4.0</td>\n",
       "      <td>0.0</td>\n",
       "      <td>1</td>\n",
       "      <td>1.0</td>\n",
       "      <td>1.0</td>\n",
       "    </tr>\n",
       "    <tr>\n",
       "      <th>199</th>\n",
       "      <td>61.0</td>\n",
       "      <td>50.0</td>\n",
       "      <td>16.0</td>\n",
       "      <td>2.0</td>\n",
       "      <td>1.0</td>\n",
       "      <td>0</td>\n",
       "      <td>1.0</td>\n",
       "      <td>1.0</td>\n",
       "    </tr>\n",
       "  </tbody>\n",
       "</table>\n",
       "<p>200 rows × 8 columns</p>\n",
       "</div>"
      ],
      "text/plain": [
       "     tenure   age  address   ed  equip  churn  callcard  wireless\n",
       "0      11.0  33.0      7.0  5.0    0.0      1       1.0       1.0\n",
       "1      33.0  33.0     12.0  2.0    0.0      1       0.0       0.0\n",
       "2      23.0  30.0      9.0  1.0    0.0      0       0.0       0.0\n",
       "3      38.0  35.0      5.0  2.0    1.0      0       1.0       1.0\n",
       "4       7.0  35.0     14.0  2.0    0.0      0       1.0       0.0\n",
       "..      ...   ...      ...  ...    ...    ...       ...       ...\n",
       "195    55.0  44.0     24.0  1.0    0.0      0       1.0       0.0\n",
       "196    34.0  23.0      3.0  1.0    0.0      0       1.0       0.0\n",
       "197     6.0  32.0     10.0  1.0    0.0      0       1.0       0.0\n",
       "198    24.0  30.0      0.0  4.0    0.0      1       1.0       1.0\n",
       "199    61.0  50.0     16.0  2.0    1.0      0       1.0       1.0\n",
       "\n",
       "[200 rows x 8 columns]"
      ]
     },
     "execution_count": 23,
     "metadata": {},
     "output_type": "execute_result"
    }
   ],
   "source": [
    "churn_df = churn_df[['tenure', 'age', 'address', 'ed', 'equip', 'churn','callcard', 'wireless']]\n",
    "churn_df['churn'] = churn_df['churn'].astype('int')\n",
    "churn_df"
   ]
  },
  {
   "cell_type": "markdown",
   "id": "df7bd34f-ad34-47b8-9690-4631eec20141",
   "metadata": {},
   "source": [
    "For modeling the input fields X and the target field y need to be fixed. Since that the target to be predicted is 'churn', the data under this field will be stored under the variable 'y'. We may use any combination or all of the remaining fields as the input. Store these values in the variable 'X'.\n"
   ]
  },
  {
   "cell_type": "code",
   "execution_count": 36,
   "id": "124b59a9-fb6e-497f-9b53-54e72fc33f49",
   "metadata": {},
   "outputs": [
    {
     "data": {
      "text/plain": [
       "array([[11., 33.,  7.,  5.,  0.,  1.,  1.],\n",
       "       [33., 33., 12.,  2.,  0.,  0.,  0.],\n",
       "       [23., 30.,  9.,  1.,  0.,  0.,  0.],\n",
       "       [38., 35.,  5.,  2.,  1.,  1.,  1.],\n",
       "       [ 7., 35., 14.,  2.,  0.,  1.,  0.]])"
      ]
     },
     "execution_count": 36,
     "metadata": {},
     "output_type": "execute_result"
    }
   ],
   "source": [
    "X = np.asarray(churn_df[['tenure', 'age', 'address', 'ed', 'equip','callcard', 'wireless']])\n",
    "X[0:5]  #print the first 5 values"
   ]
  },
  {
   "cell_type": "code",
   "execution_count": 37,
   "id": "e00367f5-e3d0-4b29-af6a-cf6eb521c26e",
   "metadata": {},
   "outputs": [
    {
     "data": {
      "text/plain": [
       "array([1, 1, 0, 0, 0])"
      ]
     },
     "execution_count": 37,
     "metadata": {},
     "output_type": "execute_result"
    }
   ],
   "source": [
    "y = np.asarray(churn_df['churn'])\n",
    "y[0:5] #print the first 5 values"
   ]
  },
  {
   "cell_type": "markdown",
   "id": "18abb546-c178-460f-9f2b-4d2aa43899f1",
   "metadata": {},
   "source": [
    "It is also a norm to standardize or normalize the dataset in order to have all the features at the same scale. This helps the model learn faster and improves the model performance. We may make use of StandardScalar function in the Scikit-Learn library.\n"
   ]
  },
  {
   "cell_type": "code",
   "execution_count": 38,
   "id": "c64494c5-99ff-4979-aff0-6d711317a332",
   "metadata": {},
   "outputs": [
    {
     "data": {
      "text/plain": [
       "array([[-1.13518441, -0.62595491, -0.4588971 ,  1.6961288 , -0.85972695,\n",
       "         0.64686916,  1.56469673],\n",
       "       [-0.11604313, -0.62595491,  0.03454064, -0.6433592 , -0.85972695,\n",
       "        -1.54590766, -0.63910148],\n",
       "       [-0.57928917, -0.85594447, -0.261522  , -1.42318853, -0.85972695,\n",
       "        -1.54590766, -0.63910148],\n",
       "       [ 0.11557989, -0.47262854, -0.65627219, -0.6433592 ,  1.16316   ,\n",
       "         0.64686916,  1.56469673],\n",
       "       [-1.32048283, -0.47262854,  0.23191574, -0.6433592 , -0.85972695,\n",
       "         0.64686916, -0.63910148]])"
      ]
     },
     "execution_count": 38,
     "metadata": {},
     "output_type": "execute_result"
    }
   ],
   "source": [
    "X_norm = StandardScaler().fit(X).transform(X)\n",
    "X_norm[0:5]"
   ]
  },
  {
   "cell_type": "markdown",
   "id": "bda8bd3d-1a42-439c-8a1f-fc498e2ec1b3",
   "metadata": {},
   "source": [
    "### Splitting the dataset\n"
   ]
  },
  {
   "cell_type": "markdown",
   "id": "2168fbd0-f71a-4a7d-831b-a20012574876",
   "metadata": {},
   "source": [
    "The trained model has to be tested and evaluated on data which has not been used during training. Therefore, it is required to separate a part of the data for testing and the remaining for training. For this, we may make use of the train_test_split function in the scikit-learn library.\n"
   ]
  },
  {
   "cell_type": "code",
   "execution_count": 39,
   "id": "a15ed87c-2811-47cd-bd95-632453d39496",
   "metadata": {},
   "outputs": [],
   "source": [
    "X_train, X_test, y_train, y_test = train_test_split( X_norm, y, test_size=0.2, random_state=4)"
   ]
  },
  {
   "cell_type": "markdown",
   "id": "6a11de30-f4c2-49b7-bf57-711a136f2fc9",
   "metadata": {},
   "source": [
    "## Logistic Regression Classifier modeling\n"
   ]
  },
  {
   "cell_type": "markdown",
   "id": "2107919c-ab83-492d-ab06-2f57ca8cbdde",
   "metadata": {},
   "source": [
    "Let's build the model using __LogisticRegression__ from the Scikit-learn package and fit our model with train data set.\n"
   ]
  },
  {
   "cell_type": "code",
   "execution_count": 40,
   "id": "5f3bf0ea-dad7-4b5d-abde-74ea79fb38e9",
   "metadata": {},
   "outputs": [],
   "source": [
    "LR = LogisticRegression().fit(X_train,y_train)"
   ]
  },
  {
   "cell_type": "markdown",
   "id": "d5b21331-b103-4f49-baa4-25de2e695d6c",
   "metadata": {},
   "source": [
    "Fitting, or in simple terms training, gives us a model that has now learnt from the traning data and can be used to predict the output variable. Let us predict the churn parameter for the test data set.\n"
   ]
  },
  {
   "cell_type": "code",
   "execution_count": 41,
   "id": "0287c764-307b-49df-972d-d8960cae139d",
   "metadata": {},
   "outputs": [
    {
     "data": {
      "text/plain": [
       "array([0, 0, 0, 0, 0, 0, 0, 0, 1, 0, 0, 0, 0, 1, 0, 1, 0, 0, 0, 0, 1, 0,\n",
       "       0, 0, 1, 0, 1, 0, 0, 0, 0, 0, 1, 0, 0, 0, 0, 0, 0, 1])"
      ]
     },
     "execution_count": 41,
     "metadata": {},
     "output_type": "execute_result"
    }
   ],
   "source": [
    "yhat = LR.predict(X_test)\n",
    "yhat"
   ]
  },
  {
   "cell_type": "markdown",
   "id": "5cd433f8-d081-4425-ac1b-5ee2aa87a705",
   "metadata": {},
   "source": [
    "To understand this prediction, we can also have a look at the prediction probability of data point of the test data set. Use the function __predict_proba__ , we can get the probability of each class. The first column is the probability of the record belonging to class 0, and second column that of class 1. Note that the class prediction system uses the threshold for class prediction as 0.5. This means that the class predicted is the one which is most likely.\n"
   ]
  },
  {
   "cell_type": "code",
   "execution_count": 42,
   "id": "683a8f08-2b65-41c7-93d7-d977a9226ba9",
   "metadata": {},
   "outputs": [
    {
     "data": {
      "text/plain": [
       "array([[0.90658788, 0.09341212],\n",
       "       [0.7746575 , 0.2253425 ],\n",
       "       [0.65949678, 0.34050322],\n",
       "       [0.96764031, 0.03235969],\n",
       "       [0.75820104, 0.24179896],\n",
       "       [0.8880815 , 0.1119185 ],\n",
       "       [0.73771657, 0.26228343],\n",
       "       [0.7116363 , 0.2883637 ],\n",
       "       [0.31943737, 0.68056263],\n",
       "       [0.8501461 , 0.1498539 ],\n",
       "       [0.75488294, 0.24511706],\n",
       "       [0.7169035 , 0.2830965 ],\n",
       "       [0.81174671, 0.18825329],\n",
       "       [0.36312536, 0.63687464],\n",
       "       [0.94913457, 0.05086543],\n",
       "       [0.39242524, 0.60757476],\n",
       "       [0.67224659, 0.32775341],\n",
       "       [0.58756481, 0.41243519],\n",
       "       [0.62212313, 0.37787687],\n",
       "       [0.93276627, 0.06723373],\n",
       "       [0.44211478, 0.55788522],\n",
       "       [0.60539285, 0.39460715],\n",
       "       [0.97441097, 0.02558903],\n",
       "       [0.5687317 , 0.4312683 ],\n",
       "       [0.41246299, 0.58753701],\n",
       "       [0.98661809, 0.01338191],\n",
       "       [0.11937654, 0.88062346],\n",
       "       [0.50957721, 0.49042279],\n",
       "       [0.63602224, 0.36397776],\n",
       "       [0.98788853, 0.01211147],\n",
       "       [0.9869286 , 0.0130714 ],\n",
       "       [0.8887676 , 0.1112324 ],\n",
       "       [0.31850556, 0.68149444],\n",
       "       [0.98601118, 0.01398882],\n",
       "       [0.97296745, 0.02703255],\n",
       "       [0.83689052, 0.16310948],\n",
       "       [0.64274331, 0.35725669],\n",
       "       [0.8853845 , 0.1146155 ],\n",
       "       [0.96485032, 0.03514968],\n",
       "       [0.49781874, 0.50218126]])"
      ]
     },
     "execution_count": 42,
     "metadata": {},
     "output_type": "execute_result"
    }
   ],
   "source": [
    "yhat_prob = LR.predict_proba(X_test)\n",
    "yhat_prob"
   ]
  },
  {
   "cell_type": "markdown",
   "id": "9c050d25-dfee-4820-86c2-52f3ea7d9060",
   "metadata": {},
   "source": [
    "Since the purpose here is to predict the 1 class more acccurately, you can also examine what role each input feature has to play in the prediction of the 1 class. Consider the code below.\n"
   ]
  },
  {
   "cell_type": "code",
   "execution_count": 44,
   "id": "8ba2ef8e-4bd6-4609-9750-56a70be30784",
   "metadata": {},
   "outputs": [
    {
     "data": {
      "image/png": "[encoded data removed]",
      "text/plain": [
       "<Figure size 640x480 with 1 Axes>"
      ]
     },
     "metadata": {},
     "output_type": "display_data"
    }
   ],
   "source": [
    "coefficients = pd.Series(LR.coef_[0], index=churn_df.columns[:-1])\n",
    "coefficients.sort_values().plot(kind='barh')\n",
    "plt.title(\"Feature Coefficients in Logistic Regression Churn Model\")\n",
    "plt.xlabel(\"Coefficient Value\")\n",
    "plt.show()"
   ]
  },
  {
   "cell_type": "markdown",
   "id": "7a72be82-9144-48fe-9b54-7959249fd7ee",
   "metadata": {},
   "source": [
    "Large positive value of LR Coefficient for a given field indicates that increase in this parameter will lead to better chance of a positive, i.e. 1 class. A large negative value indicates the opposite, which means that an increase in this parameter will lead to poorer chance of a positive class. A lower absolute value indicates weaker affect of the change in that field on the predicted class. Let us examine this with the following exercises.  \n"
   ]
  },
  {
   "cell_type": "markdown",
   "id": "15aba7c0-97b8-4f6e-9f97-14314e29aca6",
   "metadata": {},
   "source": [
    "## Performance Evaluation\n"
   ]
  },
  {
   "cell_type": "markdown",
   "id": "d438a5f8-570d-4777-b14b-4032919566ac",
   "metadata": {},
   "source": [
    "Once the predictions have been generated, it becomes prudent to evaluate the performance of the model in predicting the target variable. Let us evaluate the log-loss value.\n",
    "\n",
    "### log loss\n",
    "\n",
    "Log loss (Logarithmic loss), also known as Binary Cross entropy loss, is a function that generates a loss value based on the class wise prediction probabilities and the actual class labels. The lower the log loss value, the better the model is considered to be.\n"
   ]
  },
  {
   "cell_type": "code",
   "execution_count": 45,
   "id": "3e7278f0-b4f8-476a-b7e5-e33d420071a2",
   "metadata": {},
   "outputs": [
    {
     "data": {
      "text/plain": [
       "0.7821990869010905"
      ]
     },
     "execution_count": 45,
     "metadata": {},
     "output_type": "execute_result"
    }
   ],
   "source": [
    "log_loss(y_test, yhat_prob)"
   ]
  },
  {
   "cell_type": "markdown",
   "id": "8cf0e278-77fd-4158-ba24-628245702cfb",
   "metadata": {},
   "source": [
    "### Congratulations! You're ready to move on to your next lesson!\n",
    " \n",
    " \n",
    "## Author\n",
    " \n",
    "<a href=\"https://www.linkedin.com/in/abhishek-gagneja-23051987/\" target=\"_blank\">Abishek Gagneja</a>\n",
    " \n",
    " \n",
    " ### Other Contributors\n",
    " \n",
    "<a href=\"https://www.linkedin.com/in/jpgrossman/\" target=\"_blank\">Jeff Grossman</a>\n",
    " \n",
    "<!--\n",
    "## Change Log\n",
    "\n",
    "\n",
    "|  Date (YYYY-MM-DD) |  Version | Changed By  |  Change Description |\n",
    "|---|---|---|---|\n",
    "|2024-11-05 | 3.0 | Abhishek | Updated the descriptions, codes and lab flow | \n",
    "|2021-01-21  | 2.2  | Lakshmi  |  Updated sklearn library|\n",
    "| 2020-11-03  | 2.1  | Lakshmi  |  Updated URL of csv |\n",
    "| 2020-08-27  | 2.0  | Lavanya  |  Moved lab to course repo in GitLab |\n",
    "|   |   |   |   |\n",
    "|   |   |   |   |\n"
   ]
  },
  {
   "cell_type": "markdown",
   "id": "e488e1b2-bf5c-471d-a159-f128cb33d9ad",
   "metadata": {},
   "source": [
    "<h3 align=\"center\">© IBM Corporation. All rights reserved.</h3>\n"
   ]
  }
 ],
 "metadata": {
  "kernelspec": {
   "display_name": "Python 3",
   "language": "python",
   "name": "python3"
  },
  "language_info": {
   "codemirror_mode": {
    "name": "ipython",
    "version": 3
   },
   "file_extension": ".py",
   "mimetype": "text/x-python",
   "name": "python",
   "nbconvert_exporter": "python",
   "pygments_lexer": "ipython3",
   "version": "3.10.0"
  },
  "prev_pub_hash": "c9936a3a06cf4656bb99e264a74e23001002ebb55649cddd868b26d786127876"
 },
 "nbformat": 4,
 "nbformat_minor": 4
}
